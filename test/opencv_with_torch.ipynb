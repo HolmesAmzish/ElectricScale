{
 "cells": [
  {
   "cell_type": "code",
   "id": "initial_id",
   "metadata": {
    "collapsed": true,
    "ExecuteTime": {
     "end_time": "2025-02-19T04:38:18.805369Z",
     "start_time": "2025-02-19T04:38:02.348654Z"
    }
   },
   "source": [
    "import cv2\n",
    "import torch\n",
    "from torch import nn\n",
    "from torchvision import transforms, models\n",
    "from PIL import Image\n",
    "import numpy as np"
   ],
   "outputs": [],
   "execution_count": 2
  },
  {
   "metadata": {
    "ExecuteTime": {
     "end_time": "2025-02-19T04:38:22.018872Z",
     "start_time": "2025-02-19T04:38:21.948558Z"
    }
   },
   "cell_type": "code",
   "source": [
    "model = torch.load(\"../models/model.pth\", weights_only=False)\n",
    "model.eval()\n",
    "\n",
    "transform = transforms.Compose([\n",
    "    transforms.Resize((128, 128)),\n",
    "    transforms.ToTensor(),\n",
    "    transforms.Normalize(0, 1)\n",
    "])"
   ],
   "id": "d1aa0141f4e0ef74",
   "outputs": [],
   "execution_count": 3
  },
  {
   "metadata": {
    "ExecuteTime": {
     "end_time": "2025-02-19T04:38:25.038291Z",
     "start_time": "2025-02-19T04:38:25.034662Z"
    }
   },
   "cell_type": "code",
   "source": "class_names = ['apple', 'banana', 'beetroot', 'bell pepper', 'cabbage', 'capsicum', 'carrot', 'cauliflower', 'chilli pepper', 'corn', 'cucumber', 'eggplant', 'garlic', 'ginger', 'grapes', 'jalepeno', 'kiwi', 'lemon', 'lettuce', 'mango', 'onion', 'orange', 'paprika', 'pear', 'peas', 'pineapple', 'pomegranate', 'potato', 'raddish', 'soy beans', 'spinach', 'sweetcorn', 'sweetpotato', 'tomato', 'turnip', 'watermelon']",
   "id": "72c16b4a29392d0d",
   "outputs": [],
   "execution_count": 4
  },
  {
   "metadata": {},
   "cell_type": "markdown",
   "source": "# Image",
   "id": "8a8640d0df3b5815"
  },
  {
   "metadata": {
    "ExecuteTime": {
     "end_time": "2025-02-19T04:38:27.056394Z",
     "start_time": "2025-02-19T04:38:26.940981Z"
    }
   },
   "cell_type": "code",
   "source": [
    "image = cv2.imread(\"banana.jpg\")\n",
    "image_rgb = Image.fromarray(cv2.cvtColor(image, cv2.COLOR_BGR2RGB))\n",
    "\n",
    "image_tensor = transform(image_rgb).unsqueeze(0)  # Add batch dimension\n",
    "\n",
    "with torch.no_grad():\n",
    "    output = model(image_tensor)\n",
    "    _, predicted = torch.max(output, 1)\n",
    "\n",
    "class_idx = predicted.item()\n",
    "\n",
    "predicted_label = class_names[class_idx]\n",
    "print(f\"Predicted label: {predicted_label}\")"
   ],
   "id": "64f12abf580a5eb8",
   "outputs": [
    {
     "name": "stdout",
     "output_type": "stream",
     "text": [
      "Predicted label: banana\n"
     ]
    }
   ],
   "execution_count": 5
  },
  {
   "metadata": {},
   "cell_type": "markdown",
   "source": "# Video",
   "id": "abbfbb48964b7c5e"
  },
  {
   "metadata": {
    "ExecuteTime": {
     "end_time": "2025-02-19T04:40:35.623221Z",
     "start_time": "2025-02-19T04:40:13.168340Z"
    }
   },
   "cell_type": "code",
   "source": [
    "# 使用本地视频文件\n",
    "video_path = \"2025-02-18-20-51-03.mp4\"  # 替换为你的视频文件路径\n",
    "cap = cv2.VideoCapture(video_path)\n",
    "\n",
    "if not cap.isOpened():\n",
    "    print(\"Error: Could not open video file.\")\n",
    "    exit()\n",
    "\n",
    "while True:\n",
    "    ret, frame = cap.read()\n",
    "    \n",
    "    if not ret:\n",
    "        print(\"End of video.\")\n",
    "        break\n",
    "\n",
    "    # 将视频帧从 BGR 转换为 RGB\n",
    "    image_rgb = Image.fromarray(cv2.cvtColor(frame, cv2.COLOR_BGR2RGB))\n",
    "\n",
    "    # 应用图像转换\n",
    "    image_tensor = transform(image_rgb).unsqueeze(0)  # Add batch dimension\n",
    "\n",
    "    # 进行预测\n",
    "    with torch.no_grad():\n",
    "        output = model(image_tensor)\n",
    "        _, predicted = torch.max(output, 1)\n",
    "\n",
    "    # 获取预测的标签\n",
    "    class_idx = predicted.item()\n",
    "    predicted_label = class_names[class_idx]\n",
    "    \n",
    "    # 在视频帧上显示预测结果\n",
    "    font = cv2.FONT_HERSHEY_SIMPLEX\n",
    "    cv2.putText(frame, f'Predicted: {predicted_label}', (10, 30), font, 1, (0, 255, 0), 2)\n",
    "\n",
    "    # 显示视频帧\n",
    "    cv2.imshow(\"Video Recognition\", frame)\n",
    "\n",
    "    # 按 'q' 键退出\n",
    "    if cv2.waitKey(1) & 0xFF == ord('q'):\n",
    "        break\n",
    "\n",
    "# 释放视频捕捉对象和关闭窗口\n",
    "cap.release()\n",
    "cv2.destroyAllWindows()"
   ],
   "id": "72a71abc07601e8b",
   "outputs": [],
   "execution_count": 8
  },
  {
   "metadata": {},
   "cell_type": "markdown",
   "source": "# Camera",
   "id": "5afad4ad5d42ceac"
  },
  {
   "metadata": {
    "ExecuteTime": {
     "end_time": "2025-02-19T04:47:42.169605Z",
     "start_time": "2025-02-19T04:45:25.057665Z"
    }
   },
   "cell_type": "code",
   "source": [
    "cap = cv2.VideoCapture(0)\n",
    "\n",
    "if not cap.isOpened():\n",
    "    exit()\n",
    "\n",
    "while True:\n",
    "    ret, frame = cap.read()\n",
    "    if not ret:\n",
    "        print(\"Error: Failed to capture image\")\n",
    "        break\n",
    "        \n",
    "    # 将捕获到的帧转换为RGB并应用预处理\n",
    "    image = Image.fromarray(cv2.cvtColor(frame, cv2.COLOR_BGR2RGB))\n",
    "    image_tensor = transform(image).unsqueeze(0)  # Add batch dimension\n",
    "\n",
    "    # 将图像传入模型进行预测\n",
    "    with torch.no_grad():\n",
    "        outputs = model(image_tensor)  # 获取模型输出\n",
    "        _, predicted = torch.max(outputs, 1)  # 获取最大概率的预测类别\n",
    "    \n",
    "    # 获取预测的类别索引\n",
    "    class_idx = predicted.item()\n",
    "    \n",
    "    # 显示预测标签\n",
    "    predicted_class = class_names[class_idx]\n",
    "    font = cv2.FONT_HERSHEY_SIMPLEX\n",
    "    cv2.putText(frame, f'Predicted: {predicted_class}', (10, 30), font, 1, (0, 255, 0), 2)\n",
    "\n",
    "    # 显示视频帧\n",
    "    cv2.imshow(\"Fruit Recognition\", frame)\n",
    "\n",
    "    # 按 'q' 键退出\n",
    "    if cv2.waitKey(1) & 0xFF == ord('q'):\n",
    "        break\n",
    "\n",
    "# 释放视频捕捉对象和关闭窗口\n",
    "cap.release()\n",
    "cv2.destroyAllWindows()"
   ],
   "id": "16d33783c3992bf9",
   "outputs": [],
   "execution_count": 9
  }
 ],
 "metadata": {
  "kernelspec": {
   "display_name": "Python 3",
   "language": "python",
   "name": "python3"
  },
  "language_info": {
   "codemirror_mode": {
    "name": "ipython",
    "version": 2
   },
   "file_extension": ".py",
   "mimetype": "text/x-python",
   "name": "python",
   "nbconvert_exporter": "python",
   "pygments_lexer": "ipython2",
   "version": "2.7.6"
  }
 },
 "nbformat": 4,
 "nbformat_minor": 5
}
